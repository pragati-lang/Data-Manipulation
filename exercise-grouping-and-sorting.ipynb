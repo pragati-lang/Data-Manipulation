{
 "cells": [
  {
   "cell_type": "markdown",
   "id": "aedb69f0",
   "metadata": {
    "papermill": {
     "duration": 0.018589,
     "end_time": "2021-08-08T09:37:30.370277",
     "exception": false,
     "start_time": "2021-08-08T09:37:30.351688",
     "status": "completed"
    },
    "tags": []
   },
   "source": [
    "**This notebook is an exercise in the [Pandas](https://www.kaggle.com/learn/pandas) course.  You can reference the tutorial at [this link](https://www.kaggle.com/residentmario/grouping-and-sorting).**\n",
    "\n",
    "---\n"
   ]
  },
  {
   "cell_type": "markdown",
   "id": "cd09399c",
   "metadata": {
    "papermill": {
     "duration": 0.017761,
     "end_time": "2021-08-08T09:37:30.405870",
     "exception": false,
     "start_time": "2021-08-08T09:37:30.388109",
     "status": "completed"
    },
    "tags": []
   },
   "source": [
    "# Introduction\n",
    "\n",
    "In these exercises we'll apply groupwise analysis to our dataset.\n",
    "\n",
    "Run the code cell below to load the data before running the exercises."
   ]
  },
  {
   "cell_type": "code",
   "execution_count": 1,
   "id": "c661428e",
   "metadata": {
    "execution": {
     "iopub.execute_input": "2021-08-08T09:37:30.445177Z",
     "iopub.status.busy": "2021-08-08T09:37:30.444035Z",
     "iopub.status.idle": "2021-08-08T09:37:33.689694Z",
     "shell.execute_reply": "2021-08-08T09:37:33.688620Z",
     "shell.execute_reply.started": "2021-08-08T08:56:12.312688Z"
    },
    "papermill": {
     "duration": 3.266554,
     "end_time": "2021-08-08T09:37:33.689917",
     "exception": false,
     "start_time": "2021-08-08T09:37:30.423363",
     "status": "completed"
    },
    "tags": []
   },
   "outputs": [
    {
     "name": "stdout",
     "output_type": "stream",
     "text": [
      "Setup complete.\n"
     ]
    }
   ],
   "source": [
    "import pandas as pd\n",
    "\n",
    "reviews = pd.read_csv(\"../input/wine-reviews/winemag-data-130k-v2.csv\", index_col=0)\n",
    "#pd.set_option(\"display.max_rows\", 5)\n",
    "\n",
    "from learntools.core import binder; binder.bind(globals())\n",
    "from learntools.pandas.grouping_and_sorting import *\n",
    "print(\"Setup complete.\")"
   ]
  },
  {
   "cell_type": "markdown",
   "id": "7a9e1612",
   "metadata": {
    "papermill": {
     "duration": 0.017799,
     "end_time": "2021-08-08T09:37:33.736491",
     "exception": false,
     "start_time": "2021-08-08T09:37:33.718692",
     "status": "completed"
    },
    "tags": []
   },
   "source": [
    "# Exercises"
   ]
  },
  {
   "cell_type": "markdown",
   "id": "fd9ec262",
   "metadata": {
    "papermill": {
     "duration": 0.018359,
     "end_time": "2021-08-08T09:37:33.773014",
     "exception": false,
     "start_time": "2021-08-08T09:37:33.754655",
     "status": "completed"
    },
    "tags": []
   },
   "source": [
    "## 1.\n",
    "Who are the most common wine reviewers in the dataset? Create a `Series` whose index is the `taster_twitter_handle` category from the dataset, and whose values count how many reviews each person wrote."
   ]
  },
  {
   "cell_type": "code",
   "execution_count": 2,
   "id": "efd306c7",
   "metadata": {
    "execution": {
     "iopub.execute_input": "2021-08-08T09:37:33.833376Z",
     "iopub.status.busy": "2021-08-08T09:37:33.832388Z",
     "iopub.status.idle": "2021-08-08T09:37:33.858104Z",
     "shell.execute_reply": "2021-08-08T09:37:33.857544Z",
     "shell.execute_reply.started": "2021-08-08T08:56:52.412289Z"
    },
    "papermill": {
     "duration": 0.067211,
     "end_time": "2021-08-08T09:37:33.858247",
     "exception": false,
     "start_time": "2021-08-08T09:37:33.791036",
     "status": "completed"
    },
    "tags": []
   },
   "outputs": [
    {
     "data": {
      "application/javascript": [
       "parent.postMessage({\"jupyterEvent\": \"custom.exercise_interaction\", \"data\": {\"outcomeType\": 1, \"valueTowardsCompletion\": 0.16666666666666666, \"interactionType\": 1, \"questionType\": 1, \"questionId\": \"1_ReviewsWritten\", \"learnToolsVersion\": \"0.3.4\", \"failureMessage\": \"\", \"exceptionClass\": \"\", \"trace\": \"\"}}, \"*\")"
      ],
      "text/plain": [
       "<IPython.core.display.Javascript object>"
      ]
     },
     "metadata": {},
     "output_type": "display_data"
    },
    {
     "data": {
      "text/markdown": [
       "<span style=\"color:#33cc33\">Correct:</span> \n",
       "\n",
       "\n",
       "```python\n",
       "reviews_written = reviews.groupby('taster_twitter_handle').size()\n",
       "```\n",
       "or\n",
       "```python\n",
       "reviews_written = reviews.groupby('taster_twitter_handle').taster_twitter_handle.count()\n",
       "```\n"
      ],
      "text/plain": [
       "Correct: \n",
       "\n",
       "\n",
       "```python\n",
       "reviews_written = reviews.groupby('taster_twitter_handle').size()\n",
       "```\n",
       "or\n",
       "```python\n",
       "reviews_written = reviews.groupby('taster_twitter_handle').taster_twitter_handle.count()\n",
       "```"
      ]
     },
     "metadata": {},
     "output_type": "display_data"
    }
   ],
   "source": [
    "# Your code here\n",
    "reviews_written = reviews.groupby('taster_twitter_handle').taster_twitter_handle.count()\n",
    "\n",
    "# Check your answer\n",
    "q1.check()"
   ]
  },
  {
   "cell_type": "code",
   "execution_count": 3,
   "id": "7989ef4b",
   "metadata": {
    "execution": {
     "iopub.execute_input": "2021-08-08T09:37:33.902153Z",
     "iopub.status.busy": "2021-08-08T09:37:33.901252Z",
     "iopub.status.idle": "2021-08-08T09:37:33.907551Z",
     "shell.execute_reply": "2021-08-08T09:37:33.906929Z",
     "shell.execute_reply.started": "2021-08-08T08:56:28.45279Z"
    },
    "papermill": {
     "duration": 0.030522,
     "end_time": "2021-08-08T09:37:33.907732",
     "exception": false,
     "start_time": "2021-08-08T09:37:33.877210",
     "status": "completed"
    },
    "tags": []
   },
   "outputs": [
    {
     "data": {
      "application/javascript": [
       "parent.postMessage({\"jupyterEvent\": \"custom.exercise_interaction\", \"data\": {\"interactionType\": 3, \"questionType\": 1, \"questionId\": \"1_ReviewsWritten\", \"learnToolsVersion\": \"0.3.4\", \"valueTowardsCompletion\": 0.0, \"failureMessage\": \"\", \"exceptionClass\": \"\", \"trace\": \"\", \"outcomeType\": 4}}, \"*\")"
      ],
      "text/plain": [
       "<IPython.core.display.Javascript object>"
      ]
     },
     "metadata": {},
     "output_type": "display_data"
    },
    {
     "data": {
      "text/markdown": [
       "<span style=\"color:#33cc99\">Solution:</span> \n",
       "```python\n",
       "reviews_written = reviews.groupby('taster_twitter_handle').size()\n",
       "```\n",
       "or\n",
       "```python\n",
       "reviews_written = reviews.groupby('taster_twitter_handle').taster_twitter_handle.count()\n",
       "```\n"
      ],
      "text/plain": [
       "Solution: \n",
       "```python\n",
       "reviews_written = reviews.groupby('taster_twitter_handle').size()\n",
       "```\n",
       "or\n",
       "```python\n",
       "reviews_written = reviews.groupby('taster_twitter_handle').taster_twitter_handle.count()\n",
       "```"
      ]
     },
     "metadata": {},
     "output_type": "display_data"
    }
   ],
   "source": [
    "#q1.hint()\n",
    "q1.solution()"
   ]
  },
  {
   "cell_type": "markdown",
   "id": "4b377dec",
   "metadata": {
    "papermill": {
     "duration": 0.020087,
     "end_time": "2021-08-08T09:37:33.948193",
     "exception": false,
     "start_time": "2021-08-08T09:37:33.928106",
     "status": "completed"
    },
    "tags": []
   },
   "source": [
    "## 2.\n",
    "What is the best wine I can buy for a given amount of money? Create a `Series` whose index is wine prices and whose values is the maximum number of points a wine costing that much was given in a review. Sort the values by price, ascending (so that `4.0` dollars is at the top and `3300.0` dollars is at the bottom)."
   ]
  },
  {
   "cell_type": "code",
   "execution_count": 4,
   "id": "0351fe90",
   "metadata": {
    "execution": {
     "iopub.execute_input": "2021-08-08T09:37:33.991837Z",
     "iopub.status.busy": "2021-08-08T09:37:33.991161Z",
     "iopub.status.idle": "2021-08-08T09:37:34.004369Z",
     "shell.execute_reply": "2021-08-08T09:37:34.003771Z",
     "shell.execute_reply.started": "2021-08-08T08:57:21.792309Z"
    },
    "papermill": {
     "duration": 0.036049,
     "end_time": "2021-08-08T09:37:34.004537",
     "exception": false,
     "start_time": "2021-08-08T09:37:33.968488",
     "status": "completed"
    },
    "tags": []
   },
   "outputs": [
    {
     "data": {
      "application/javascript": [
       "parent.postMessage({\"jupyterEvent\": \"custom.exercise_interaction\", \"data\": {\"outcomeType\": 1, \"valueTowardsCompletion\": 0.16666666666666666, \"interactionType\": 1, \"questionType\": 1, \"questionId\": \"2_BestRatingPerPrice\", \"learnToolsVersion\": \"0.3.4\", \"failureMessage\": \"\", \"exceptionClass\": \"\", \"trace\": \"\"}}, \"*\")"
      ],
      "text/plain": [
       "<IPython.core.display.Javascript object>"
      ]
     },
     "metadata": {},
     "output_type": "display_data"
    },
    {
     "data": {
      "text/markdown": [
       "<span style=\"color:#33cc33\">Correct</span>"
      ],
      "text/plain": [
       "Correct"
      ]
     },
     "metadata": {},
     "output_type": "display_data"
    }
   ],
   "source": [
    "best_rating_per_price = reviews.groupby('price')['points'].max().sort_index()\n",
    "\n",
    "# Check your answer\n",
    "q2.check()"
   ]
  },
  {
   "cell_type": "code",
   "execution_count": 5,
   "id": "c13ebfa4",
   "metadata": {
    "execution": {
     "iopub.execute_input": "2021-08-08T09:37:34.052291Z",
     "iopub.status.busy": "2021-08-08T09:37:34.051622Z",
     "iopub.status.idle": "2021-08-08T09:37:34.055875Z",
     "shell.execute_reply": "2021-08-08T09:37:34.056391Z",
     "shell.execute_reply.started": "2021-08-08T08:57:03.712894Z"
    },
    "papermill": {
     "duration": 0.030894,
     "end_time": "2021-08-08T09:37:34.056594",
     "exception": false,
     "start_time": "2021-08-08T09:37:34.025700",
     "status": "completed"
    },
    "tags": []
   },
   "outputs": [
    {
     "data": {
      "application/javascript": [
       "parent.postMessage({\"jupyterEvent\": \"custom.exercise_interaction\", \"data\": {\"interactionType\": 3, \"questionType\": 1, \"questionId\": \"2_BestRatingPerPrice\", \"learnToolsVersion\": \"0.3.4\", \"valueTowardsCompletion\": 0.0, \"failureMessage\": \"\", \"exceptionClass\": \"\", \"trace\": \"\", \"outcomeType\": 4}}, \"*\")"
      ],
      "text/plain": [
       "<IPython.core.display.Javascript object>"
      ]
     },
     "metadata": {},
     "output_type": "display_data"
    },
    {
     "data": {
      "text/markdown": [
       "<span style=\"color:#33cc99\">Solution:</span> \n",
       "```python\n",
       "best_rating_per_price = reviews.groupby('price')['points'].max().sort_index()\n",
       "```"
      ],
      "text/plain": [
       "Solution: \n",
       "```python\n",
       "best_rating_per_price = reviews.groupby('price')['points'].max().sort_index()\n",
       "```"
      ]
     },
     "metadata": {},
     "output_type": "display_data"
    }
   ],
   "source": [
    "#q2.hint()\n",
    "q2.solution()"
   ]
  },
  {
   "cell_type": "markdown",
   "id": "06027603",
   "metadata": {
    "papermill": {
     "duration": 0.022538,
     "end_time": "2021-08-08T09:37:34.102838",
     "exception": false,
     "start_time": "2021-08-08T09:37:34.080300",
     "status": "completed"
    },
    "tags": []
   },
   "source": [
    "## 3.\n",
    "What are the minimum and maximum prices for each `variety` of wine? Create a `DataFrame` whose index is the `variety` category from the dataset and whose values are the `min` and `max` values thereof."
   ]
  },
  {
   "cell_type": "code",
   "execution_count": 6,
   "id": "5ac1e180",
   "metadata": {
    "execution": {
     "iopub.execute_input": "2021-08-08T09:37:34.152599Z",
     "iopub.status.busy": "2021-08-08T09:37:34.151915Z",
     "iopub.status.idle": "2021-08-08T09:37:34.190003Z",
     "shell.execute_reply": "2021-08-08T09:37:34.190512Z",
     "shell.execute_reply.started": "2021-08-08T08:57:52.19232Z"
    },
    "papermill": {
     "duration": 0.06579,
     "end_time": "2021-08-08T09:37:34.190730",
     "exception": false,
     "start_time": "2021-08-08T09:37:34.124940",
     "status": "completed"
    },
    "tags": []
   },
   "outputs": [
    {
     "data": {
      "application/javascript": [
       "parent.postMessage({\"jupyterEvent\": \"custom.exercise_interaction\", \"data\": {\"outcomeType\": 1, \"valueTowardsCompletion\": 0.16666666666666666, \"interactionType\": 1, \"questionType\": 1, \"questionId\": \"3_PriceExtremes\", \"learnToolsVersion\": \"0.3.4\", \"failureMessage\": \"\", \"exceptionClass\": \"\", \"trace\": \"\"}}, \"*\")"
      ],
      "text/plain": [
       "<IPython.core.display.Javascript object>"
      ]
     },
     "metadata": {},
     "output_type": "display_data"
    },
    {
     "data": {
      "text/markdown": [
       "<span style=\"color:#33cc33\">Correct</span>"
      ],
      "text/plain": [
       "Correct"
      ]
     },
     "metadata": {},
     "output_type": "display_data"
    }
   ],
   "source": [
    "price_extremes = reviews.groupby('variety').price.agg([min, max])\n",
    "\n",
    "# Check your answer\n",
    "q3.check()"
   ]
  },
  {
   "cell_type": "code",
   "execution_count": 7,
   "id": "2cb96039",
   "metadata": {
    "execution": {
     "iopub.execute_input": "2021-08-08T09:37:34.240004Z",
     "iopub.status.busy": "2021-08-08T09:37:34.239316Z",
     "iopub.status.idle": "2021-08-08T09:37:34.245489Z",
     "shell.execute_reply": "2021-08-08T09:37:34.246026Z",
     "shell.execute_reply.started": "2021-08-08T08:57:33.693246Z"
    },
    "papermill": {
     "duration": 0.032334,
     "end_time": "2021-08-08T09:37:34.246200",
     "exception": false,
     "start_time": "2021-08-08T09:37:34.213866",
     "status": "completed"
    },
    "tags": []
   },
   "outputs": [
    {
     "data": {
      "application/javascript": [
       "parent.postMessage({\"jupyterEvent\": \"custom.exercise_interaction\", \"data\": {\"interactionType\": 3, \"questionType\": 1, \"questionId\": \"3_PriceExtremes\", \"learnToolsVersion\": \"0.3.4\", \"valueTowardsCompletion\": 0.0, \"failureMessage\": \"\", \"exceptionClass\": \"\", \"trace\": \"\", \"outcomeType\": 4}}, \"*\")"
      ],
      "text/plain": [
       "<IPython.core.display.Javascript object>"
      ]
     },
     "metadata": {},
     "output_type": "display_data"
    },
    {
     "data": {
      "text/markdown": [
       "<span style=\"color:#33cc99\">Solution:</span> \n",
       "```python\n",
       "price_extremes = reviews.groupby('variety').price.agg([min, max])\n",
       "```"
      ],
      "text/plain": [
       "Solution: \n",
       "```python\n",
       "price_extremes = reviews.groupby('variety').price.agg([min, max])\n",
       "```"
      ]
     },
     "metadata": {},
     "output_type": "display_data"
    }
   ],
   "source": [
    "#q3.hint()\n",
    "q3.solution()"
   ]
  },
  {
   "cell_type": "markdown",
   "id": "7265ae83",
   "metadata": {
    "papermill": {
     "duration": 0.024647,
     "end_time": "2021-08-08T09:37:34.295582",
     "exception": false,
     "start_time": "2021-08-08T09:37:34.270935",
     "status": "completed"
    },
    "tags": []
   },
   "source": [
    "## 4.\n",
    "What are the most expensive wine varieties? Create a variable `sorted_varieties` containing a copy of the dataframe from the previous question where varieties are sorted in descending order based on minimum price, then on maximum price (to break ties)."
   ]
  },
  {
   "cell_type": "code",
   "execution_count": 8,
   "id": "0a620854",
   "metadata": {
    "execution": {
     "iopub.execute_input": "2021-08-08T09:37:34.347075Z",
     "iopub.status.busy": "2021-08-08T09:37:34.346318Z",
     "iopub.status.idle": "2021-08-08T09:37:34.355885Z",
     "shell.execute_reply": "2021-08-08T09:37:34.356392Z",
     "shell.execute_reply.started": "2021-08-08T08:58:22.312945Z"
    },
    "papermill": {
     "duration": 0.036997,
     "end_time": "2021-08-08T09:37:34.356581",
     "exception": false,
     "start_time": "2021-08-08T09:37:34.319584",
     "status": "completed"
    },
    "tags": []
   },
   "outputs": [
    {
     "data": {
      "application/javascript": [
       "parent.postMessage({\"jupyterEvent\": \"custom.exercise_interaction\", \"data\": {\"outcomeType\": 1, \"valueTowardsCompletion\": 0.16666666666666666, \"interactionType\": 1, \"questionType\": 1, \"questionId\": \"4_SortedVarieties\", \"learnToolsVersion\": \"0.3.4\", \"failureMessage\": \"\", \"exceptionClass\": \"\", \"trace\": \"\"}}, \"*\")"
      ],
      "text/plain": [
       "<IPython.core.display.Javascript object>"
      ]
     },
     "metadata": {},
     "output_type": "display_data"
    },
    {
     "data": {
      "text/markdown": [
       "<span style=\"color:#33cc33\">Correct</span>"
      ],
      "text/plain": [
       "Correct"
      ]
     },
     "metadata": {},
     "output_type": "display_data"
    }
   ],
   "source": [
    "sorted_varieties = price_extremes.sort_values(by=['min', 'max'], ascending=False)\n",
    "\n",
    "# Check your answer\n",
    "q4.check()"
   ]
  },
  {
   "cell_type": "code",
   "execution_count": 9,
   "id": "2a83160e",
   "metadata": {
    "execution": {
     "iopub.execute_input": "2021-08-08T09:37:34.409668Z",
     "iopub.status.busy": "2021-08-08T09:37:34.408924Z",
     "iopub.status.idle": "2021-08-08T09:37:34.415681Z",
     "shell.execute_reply": "2021-08-08T09:37:34.416183Z",
     "shell.execute_reply.started": "2021-08-08T08:58:04.752561Z"
    },
    "papermill": {
     "duration": 0.034987,
     "end_time": "2021-08-08T09:37:34.416363",
     "exception": false,
     "start_time": "2021-08-08T09:37:34.381376",
     "status": "completed"
    },
    "tags": []
   },
   "outputs": [
    {
     "data": {
      "application/javascript": [
       "parent.postMessage({\"jupyterEvent\": \"custom.exercise_interaction\", \"data\": {\"interactionType\": 3, \"questionType\": 1, \"questionId\": \"4_SortedVarieties\", \"learnToolsVersion\": \"0.3.4\", \"valueTowardsCompletion\": 0.0, \"failureMessage\": \"\", \"exceptionClass\": \"\", \"trace\": \"\", \"outcomeType\": 4}}, \"*\")"
      ],
      "text/plain": [
       "<IPython.core.display.Javascript object>"
      ]
     },
     "metadata": {},
     "output_type": "display_data"
    },
    {
     "data": {
      "text/markdown": [
       "<span style=\"color:#33cc99\">Solution:</span> \n",
       "```python\n",
       "sorted_varieties = price_extremes.sort_values(by=['min', 'max'], ascending=False)\n",
       "```"
      ],
      "text/plain": [
       "Solution: \n",
       "```python\n",
       "sorted_varieties = price_extremes.sort_values(by=['min', 'max'], ascending=False)\n",
       "```"
      ]
     },
     "metadata": {},
     "output_type": "display_data"
    }
   ],
   "source": [
    "#q4.hint()\n",
    "q4.solution()"
   ]
  },
  {
   "cell_type": "markdown",
   "id": "99bca0f8",
   "metadata": {
    "papermill": {
     "duration": 0.025407,
     "end_time": "2021-08-08T09:37:34.468258",
     "exception": false,
     "start_time": "2021-08-08T09:37:34.442851",
     "status": "completed"
    },
    "tags": []
   },
   "source": [
    "## 5.\n",
    "Create a `Series` whose index is reviewers and whose values is the average review score given out by that reviewer. Hint: you will need the `taster_name` and `points` columns."
   ]
  },
  {
   "cell_type": "code",
   "execution_count": 10,
   "id": "92b3a646",
   "metadata": {
    "execution": {
     "iopub.execute_input": "2021-08-08T09:37:34.525546Z",
     "iopub.status.busy": "2021-08-08T09:37:34.524879Z",
     "iopub.status.idle": "2021-08-08T09:37:34.549163Z",
     "shell.execute_reply": "2021-08-08T09:37:34.549672Z",
     "shell.execute_reply.started": "2021-08-08T08:58:48.762104Z"
    },
    "papermill": {
     "duration": 0.055901,
     "end_time": "2021-08-08T09:37:34.549848",
     "exception": false,
     "start_time": "2021-08-08T09:37:34.493947",
     "status": "completed"
    },
    "tags": []
   },
   "outputs": [
    {
     "data": {
      "application/javascript": [
       "parent.postMessage({\"jupyterEvent\": \"custom.exercise_interaction\", \"data\": {\"outcomeType\": 1, \"valueTowardsCompletion\": 0.16666666666666666, \"interactionType\": 1, \"questionType\": 1, \"questionId\": \"5_ReviewerMeanRatings\", \"learnToolsVersion\": \"0.3.4\", \"failureMessage\": \"\", \"exceptionClass\": \"\", \"trace\": \"\"}}, \"*\")"
      ],
      "text/plain": [
       "<IPython.core.display.Javascript object>"
      ]
     },
     "metadata": {},
     "output_type": "display_data"
    },
    {
     "data": {
      "text/markdown": [
       "<span style=\"color:#33cc33\">Correct</span>"
      ],
      "text/plain": [
       "Correct"
      ]
     },
     "metadata": {},
     "output_type": "display_data"
    }
   ],
   "source": [
    "reviewer_mean_ratings =  reviews.groupby('taster_name').points.mean()\n",
    "\n",
    "# Check your answer\n",
    "q5.check()"
   ]
  },
  {
   "cell_type": "code",
   "execution_count": 11,
   "id": "bb88fa12",
   "metadata": {
    "execution": {
     "iopub.execute_input": "2021-08-08T09:37:34.607272Z",
     "iopub.status.busy": "2021-08-08T09:37:34.606450Z",
     "iopub.status.idle": "2021-08-08T09:37:34.615715Z",
     "shell.execute_reply": "2021-08-08T09:37:34.615129Z",
     "shell.execute_reply.started": "2021-08-08T08:58:35.113319Z"
    },
    "papermill": {
     "duration": 0.038506,
     "end_time": "2021-08-08T09:37:34.615876",
     "exception": false,
     "start_time": "2021-08-08T09:37:34.577370",
     "status": "completed"
    },
    "tags": []
   },
   "outputs": [
    {
     "data": {
      "application/javascript": [
       "parent.postMessage({\"jupyterEvent\": \"custom.exercise_interaction\", \"data\": {\"interactionType\": 3, \"questionType\": 1, \"questionId\": \"5_ReviewerMeanRatings\", \"learnToolsVersion\": \"0.3.4\", \"valueTowardsCompletion\": 0.0, \"failureMessage\": \"\", \"exceptionClass\": \"\", \"trace\": \"\", \"outcomeType\": 4}}, \"*\")"
      ],
      "text/plain": [
       "<IPython.core.display.Javascript object>"
      ]
     },
     "metadata": {},
     "output_type": "display_data"
    },
    {
     "data": {
      "text/markdown": [
       "<span style=\"color:#33cc99\">Solution:</span> \n",
       "```python\n",
       "reviewer_mean_ratings = reviews.groupby('taster_name').points.mean()\n",
       "```"
      ],
      "text/plain": [
       "Solution: \n",
       "```python\n",
       "reviewer_mean_ratings = reviews.groupby('taster_name').points.mean()\n",
       "```"
      ]
     },
     "metadata": {},
     "output_type": "display_data"
    }
   ],
   "source": [
    "#q5.hint()\n",
    "q5.solution()"
   ]
  },
  {
   "cell_type": "markdown",
   "id": "ea700bf0",
   "metadata": {
    "papermill": {
     "duration": 0.027433,
     "end_time": "2021-08-08T09:37:34.671457",
     "exception": false,
     "start_time": "2021-08-08T09:37:34.644024",
     "status": "completed"
    },
    "tags": []
   },
   "source": [
    "Are there significant differences in the average scores assigned by the various reviewers? Run the cell below to use the `describe()` method to see a summary of the range of values."
   ]
  },
  {
   "cell_type": "code",
   "execution_count": 12,
   "id": "94271a45",
   "metadata": {
    "execution": {
     "iopub.execute_input": "2021-08-08T09:37:34.734723Z",
     "iopub.status.busy": "2021-08-08T09:37:34.733885Z",
     "iopub.status.idle": "2021-08-08T09:37:34.747040Z",
     "shell.execute_reply": "2021-08-08T09:37:34.746300Z",
     "shell.execute_reply.started": "2021-08-08T08:58:57.473825Z"
    },
    "papermill": {
     "duration": 0.047158,
     "end_time": "2021-08-08T09:37:34.747209",
     "exception": false,
     "start_time": "2021-08-08T09:37:34.700051",
     "status": "completed"
    },
    "tags": []
   },
   "outputs": [
    {
     "data": {
      "text/plain": [
       "count    19.000000\n",
       "mean     88.233026\n",
       "std       1.243610\n",
       "min      85.855422\n",
       "25%      87.323501\n",
       "50%      88.536235\n",
       "75%      88.975256\n",
       "max      90.562551\n",
       "Name: points, dtype: float64"
      ]
     },
     "execution_count": 12,
     "metadata": {},
     "output_type": "execute_result"
    }
   ],
   "source": [
    "reviewer_mean_ratings.describe()"
   ]
  },
  {
   "cell_type": "markdown",
   "id": "ed6dadec",
   "metadata": {
    "papermill": {
     "duration": 0.028774,
     "end_time": "2021-08-08T09:37:34.804308",
     "exception": false,
     "start_time": "2021-08-08T09:37:34.775534",
     "status": "completed"
    },
    "tags": []
   },
   "source": [
    "## 6.\n",
    "What combination of countries and varieties are most common? Create a `Series` whose index is a `MultiIndex`of `{country, variety}` pairs. For example, a pinot noir produced in the US should map to `{\"US\", \"Pinot Noir\"}`. Sort the values in the `Series` in descending order based on wine count."
   ]
  },
  {
   "cell_type": "code",
   "execution_count": 13,
   "id": "6b5c180d",
   "metadata": {
    "execution": {
     "iopub.execute_input": "2021-08-08T09:37:34.883359Z",
     "iopub.status.busy": "2021-08-08T09:37:34.882651Z",
     "iopub.status.idle": "2021-08-08T09:37:34.913196Z",
     "shell.execute_reply": "2021-08-08T09:37:34.913698Z",
     "shell.execute_reply.started": "2021-08-08T08:59:21.353114Z"
    },
    "papermill": {
     "duration": 0.081134,
     "end_time": "2021-08-08T09:37:34.913878",
     "exception": false,
     "start_time": "2021-08-08T09:37:34.832744",
     "status": "completed"
    },
    "tags": []
   },
   "outputs": [
    {
     "data": {
      "application/javascript": [
       "parent.postMessage({\"jupyterEvent\": \"custom.exercise_interaction\", \"data\": {\"outcomeType\": 1, \"valueTowardsCompletion\": 0.16666666666666666, \"interactionType\": 1, \"questionType\": 1, \"questionId\": \"6_GroupbyCountryVariety\", \"learnToolsVersion\": \"0.3.4\", \"failureMessage\": \"\", \"exceptionClass\": \"\", \"trace\": \"\"}}, \"*\")"
      ],
      "text/plain": [
       "<IPython.core.display.Javascript object>"
      ]
     },
     "metadata": {},
     "output_type": "display_data"
    },
    {
     "data": {
      "text/markdown": [
       "<span style=\"color:#33cc33\">Correct</span>"
      ],
      "text/plain": [
       "Correct"
      ]
     },
     "metadata": {},
     "output_type": "display_data"
    }
   ],
   "source": [
    "country_variety_counts = reviews.groupby(['country', 'variety']).size().sort_values(ascending=False)\n",
    "\n",
    "# Check your answer\n",
    "q6.check()"
   ]
  },
  {
   "cell_type": "code",
   "execution_count": 14,
   "id": "e435b3ae",
   "metadata": {
    "execution": {
     "iopub.execute_input": "2021-08-08T09:37:34.977874Z",
     "iopub.status.busy": "2021-08-08T09:37:34.977133Z",
     "iopub.status.idle": "2021-08-08T09:37:34.982481Z",
     "shell.execute_reply": "2021-08-08T09:37:34.981972Z",
     "shell.execute_reply.started": "2021-08-08T08:59:08.752925Z"
    },
    "papermill": {
     "duration": 0.039644,
     "end_time": "2021-08-08T09:37:34.982688",
     "exception": false,
     "start_time": "2021-08-08T09:37:34.943044",
     "status": "completed"
    },
    "tags": []
   },
   "outputs": [
    {
     "data": {
      "application/javascript": [
       "parent.postMessage({\"jupyterEvent\": \"custom.exercise_interaction\", \"data\": {\"interactionType\": 3, \"questionType\": 1, \"questionId\": \"6_GroupbyCountryVariety\", \"learnToolsVersion\": \"0.3.4\", \"valueTowardsCompletion\": 0.0, \"failureMessage\": \"\", \"exceptionClass\": \"\", \"trace\": \"\", \"outcomeType\": 4}}, \"*\")"
      ],
      "text/plain": [
       "<IPython.core.display.Javascript object>"
      ]
     },
     "metadata": {},
     "output_type": "display_data"
    },
    {
     "data": {
      "text/markdown": [
       "<span style=\"color:#33cc99\">Solution:</span> \n",
       "```python\n",
       "country_variety_counts = reviews.groupby(['country', 'variety']).size().sort_values(ascending=False)\n",
       "```"
      ],
      "text/plain": [
       "Solution: \n",
       "```python\n",
       "country_variety_counts = reviews.groupby(['country', 'variety']).size().sort_values(ascending=False)\n",
       "```"
      ]
     },
     "metadata": {},
     "output_type": "display_data"
    }
   ],
   "source": [
    "#q6.hint()\n",
    "q6.solution()"
   ]
  },
  {
   "cell_type": "markdown",
   "id": "1dd88985",
   "metadata": {
    "papermill": {
     "duration": 0.029842,
     "end_time": "2021-08-08T09:37:35.042778",
     "exception": false,
     "start_time": "2021-08-08T09:37:35.012936",
     "status": "completed"
    },
    "tags": []
   },
   "source": [
    "# Keep going\n",
    "\n",
    "Move on to the [**data types and missing data**](https://www.kaggle.com/residentmario/data-types-and-missing-values)."
   ]
  },
  {
   "cell_type": "markdown",
   "id": "aadb8433",
   "metadata": {
    "papermill": {
     "duration": 0.030272,
     "end_time": "2021-08-08T09:37:35.103759",
     "exception": false,
     "start_time": "2021-08-08T09:37:35.073487",
     "status": "completed"
    },
    "tags": []
   },
   "source": [
    "---\n",
    "\n",
    "\n",
    "\n",
    "\n",
    "*Have questions or comments? Visit the [Learn Discussion forum](https://www.kaggle.com/learn-forum/161299) to chat with other Learners.*"
   ]
  }
 ],
 "metadata": {
  "kernelspec": {
   "display_name": "Python 3",
   "language": "python",
   "name": "python3"
  },
  "language_info": {
   "codemirror_mode": {
    "name": "ipython",
    "version": 3
   },
   "file_extension": ".py",
   "mimetype": "text/x-python",
   "name": "python",
   "nbconvert_exporter": "python",
   "pygments_lexer": "ipython3",
   "version": "3.7.10"
  },
  "papermill": {
   "default_parameters": {},
   "duration": 14.901125,
   "end_time": "2021-08-08T09:37:36.693900",
   "environment_variables": {},
   "exception": null,
   "input_path": "__notebook__.ipynb",
   "output_path": "__notebook__.ipynb",
   "parameters": {},
   "start_time": "2021-08-08T09:37:21.792775",
   "version": "2.3.3"
  }
 },
 "nbformat": 4,
 "nbformat_minor": 5
}
