{
 "cells": [
  {
   "cell_type": "markdown",
   "id": "f14e6d27",
   "metadata": {
    "papermill": {
     "duration": 0.014199,
     "end_time": "2021-08-08T09:39:32.846980",
     "exception": false,
     "start_time": "2021-08-08T09:39:32.832781",
     "status": "completed"
    },
    "tags": []
   },
   "source": [
    "**This notebook is an exercise in the [Pandas](https://www.kaggle.com/learn/pandas) course.  You can reference the tutorial at [this link](https://www.kaggle.com/residentmario/data-types-and-missing-values).**\n",
    "\n",
    "---\n"
   ]
  },
  {
   "cell_type": "markdown",
   "id": "e88b89b8",
   "metadata": {
    "papermill": {
     "duration": 0.0123,
     "end_time": "2021-08-08T09:39:32.872433",
     "exception": false,
     "start_time": "2021-08-08T09:39:32.860133",
     "status": "completed"
    },
    "tags": []
   },
   "source": [
    "# Introduction\n",
    "\n",
    "Run the following cell to load your data and some utility functions."
   ]
  },
  {
   "cell_type": "code",
   "execution_count": 1,
   "id": "8683ca1f",
   "metadata": {
    "execution": {
     "iopub.execute_input": "2021-08-08T09:39:32.913054Z",
     "iopub.status.busy": "2021-08-08T09:39:32.912358Z",
     "iopub.status.idle": "2021-08-08T09:39:36.243963Z",
     "shell.execute_reply": "2021-08-08T09:39:36.242722Z",
     "shell.execute_reply.started": "2021-08-08T09:01:19.199458Z"
    },
    "papermill": {
     "duration": 3.359132,
     "end_time": "2021-08-08T09:39:36.244186",
     "exception": false,
     "start_time": "2021-08-08T09:39:32.885054",
     "status": "completed"
    },
    "tags": []
   },
   "outputs": [
    {
     "name": "stdout",
     "output_type": "stream",
     "text": [
      "Setup complete.\n"
     ]
    }
   ],
   "source": [
    "import pandas as pd\n",
    "\n",
    "reviews = pd.read_csv(\"../input/wine-reviews/winemag-data-130k-v2.csv\", index_col=0)\n",
    "\n",
    "from learntools.core import binder; binder.bind(globals())\n",
    "from learntools.pandas.data_types_and_missing_data import *\n",
    "print(\"Setup complete.\")"
   ]
  },
  {
   "cell_type": "markdown",
   "id": "ba7c2aee",
   "metadata": {
    "papermill": {
     "duration": 0.012581,
     "end_time": "2021-08-08T09:39:36.270902",
     "exception": false,
     "start_time": "2021-08-08T09:39:36.258321",
     "status": "completed"
    },
    "tags": []
   },
   "source": [
    "# Exercises"
   ]
  },
  {
   "cell_type": "markdown",
   "id": "70bba1fc",
   "metadata": {
    "papermill": {
     "duration": 0.012981,
     "end_time": "2021-08-08T09:39:36.296795",
     "exception": false,
     "start_time": "2021-08-08T09:39:36.283814",
     "status": "completed"
    },
    "tags": []
   },
   "source": [
    "## 1. \n",
    "What is the data type of the `points` column in the dataset?"
   ]
  },
  {
   "cell_type": "code",
   "execution_count": 2,
   "id": "67f62fba",
   "metadata": {
    "execution": {
     "iopub.execute_input": "2021-08-08T09:39:36.331145Z",
     "iopub.status.busy": "2021-08-08T09:39:36.330339Z",
     "iopub.status.idle": "2021-08-08T09:39:36.337279Z",
     "shell.execute_reply": "2021-08-08T09:39:36.337744Z",
     "shell.execute_reply.started": "2021-08-08T09:01:50.879898Z"
    },
    "papermill": {
     "duration": 0.028152,
     "end_time": "2021-08-08T09:39:36.337919",
     "exception": false,
     "start_time": "2021-08-08T09:39:36.309767",
     "status": "completed"
    },
    "tags": []
   },
   "outputs": [
    {
     "data": {
      "application/javascript": [
       "parent.postMessage({\"jupyterEvent\": \"custom.exercise_interaction\", \"data\": {\"outcomeType\": 1, \"valueTowardsCompletion\": 0.25, \"interactionType\": 1, \"questionType\": 1, \"questionId\": \"1_PointsDtype\", \"learnToolsVersion\": \"0.3.4\", \"failureMessage\": \"\", \"exceptionClass\": \"\", \"trace\": \"\"}}, \"*\")"
      ],
      "text/plain": [
       "<IPython.core.display.Javascript object>"
      ]
     },
     "metadata": {},
     "output_type": "display_data"
    },
    {
     "data": {
      "text/markdown": [
       "<span style=\"color:#33cc33\">Correct</span>"
      ],
      "text/plain": [
       "Correct"
      ]
     },
     "metadata": {},
     "output_type": "display_data"
    }
   ],
   "source": [
    "# Your code here\n",
    "dtype =  reviews.points.dtype\n",
    "\n",
    "# Check your answer\n",
    "q1.check()"
   ]
  },
  {
   "cell_type": "code",
   "execution_count": 3,
   "id": "f1e66c72",
   "metadata": {
    "execution": {
     "iopub.execute_input": "2021-08-08T09:39:36.368619Z",
     "iopub.status.busy": "2021-08-08T09:39:36.367962Z",
     "iopub.status.idle": "2021-08-08T09:39:36.375574Z",
     "shell.execute_reply": "2021-08-08T09:39:36.375065Z",
     "shell.execute_reply.started": "2021-08-08T09:01:37.420001Z"
    },
    "papermill": {
     "duration": 0.023874,
     "end_time": "2021-08-08T09:39:36.375713",
     "exception": false,
     "start_time": "2021-08-08T09:39:36.351839",
     "status": "completed"
    },
    "tags": []
   },
   "outputs": [
    {
     "data": {
      "application/javascript": [
       "parent.postMessage({\"jupyterEvent\": \"custom.exercise_interaction\", \"data\": {\"interactionType\": 3, \"questionType\": 1, \"questionId\": \"1_PointsDtype\", \"learnToolsVersion\": \"0.3.4\", \"valueTowardsCompletion\": 0.0, \"failureMessage\": \"\", \"exceptionClass\": \"\", \"trace\": \"\", \"outcomeType\": 4}}, \"*\")"
      ],
      "text/plain": [
       "<IPython.core.display.Javascript object>"
      ]
     },
     "metadata": {},
     "output_type": "display_data"
    },
    {
     "data": {
      "text/markdown": [
       "<span style=\"color:#33cc99\">Solution:</span> \n",
       "```python\n",
       "dtype = reviews.points.dtype\n",
       "```"
      ],
      "text/plain": [
       "Solution: \n",
       "```python\n",
       "dtype = reviews.points.dtype\n",
       "```"
      ]
     },
     "metadata": {},
     "output_type": "display_data"
    }
   ],
   "source": [
    "#q1.hint()\n",
    "q1.solution()"
   ]
  },
  {
   "cell_type": "markdown",
   "id": "15b25969",
   "metadata": {
    "papermill": {
     "duration": 0.014548,
     "end_time": "2021-08-08T09:39:36.405159",
     "exception": false,
     "start_time": "2021-08-08T09:39:36.390611",
     "status": "completed"
    },
    "tags": []
   },
   "source": [
    "## 2. \n",
    "Create a Series from entries in the `points` column, but convert the entries to strings. Hint: strings are `str` in native Python."
   ]
  },
  {
   "cell_type": "code",
   "execution_count": 4,
   "id": "8ab5e986",
   "metadata": {
    "execution": {
     "iopub.execute_input": "2021-08-08T09:39:36.603360Z",
     "iopub.status.busy": "2021-08-08T09:39:36.601430Z",
     "iopub.status.idle": "2021-08-08T09:39:36.609724Z",
     "shell.execute_reply": "2021-08-08T09:39:36.610290Z",
     "shell.execute_reply.started": "2021-08-08T09:02:17.900049Z"
    },
    "papermill": {
     "duration": 0.190404,
     "end_time": "2021-08-08T09:39:36.610494",
     "exception": false,
     "start_time": "2021-08-08T09:39:36.420090",
     "status": "completed"
    },
    "tags": []
   },
   "outputs": [
    {
     "data": {
      "application/javascript": [
       "parent.postMessage({\"jupyterEvent\": \"custom.exercise_interaction\", \"data\": {\"outcomeType\": 1, \"valueTowardsCompletion\": 0.25, \"interactionType\": 1, \"questionType\": 1, \"questionId\": \"2_StrPoints\", \"learnToolsVersion\": \"0.3.4\", \"failureMessage\": \"\", \"exceptionClass\": \"\", \"trace\": \"\"}}, \"*\")"
      ],
      "text/plain": [
       "<IPython.core.display.Javascript object>"
      ]
     },
     "metadata": {},
     "output_type": "display_data"
    },
    {
     "data": {
      "text/markdown": [
       "<span style=\"color:#33cc33\">Correct</span>"
      ],
      "text/plain": [
       "Correct"
      ]
     },
     "metadata": {},
     "output_type": "display_data"
    }
   ],
   "source": [
    "point_strings = reviews.points.astype(str)\n",
    "\n",
    "# Check your answer\n",
    "q2.check()"
   ]
  },
  {
   "cell_type": "code",
   "execution_count": 5,
   "id": "8d252697",
   "metadata": {
    "execution": {
     "iopub.execute_input": "2021-08-08T09:39:36.646621Z",
     "iopub.status.busy": "2021-08-08T09:39:36.645652Z",
     "iopub.status.idle": "2021-08-08T09:39:36.653152Z",
     "shell.execute_reply": "2021-08-08T09:39:36.653721Z",
     "shell.execute_reply.started": "2021-08-08T09:02:01.239963Z"
    },
    "papermill": {
     "duration": 0.027115,
     "end_time": "2021-08-08T09:39:36.653888",
     "exception": false,
     "start_time": "2021-08-08T09:39:36.626773",
     "status": "completed"
    },
    "tags": []
   },
   "outputs": [
    {
     "data": {
      "application/javascript": [
       "parent.postMessage({\"jupyterEvent\": \"custom.exercise_interaction\", \"data\": {\"interactionType\": 3, \"questionType\": 1, \"questionId\": \"2_StrPoints\", \"learnToolsVersion\": \"0.3.4\", \"valueTowardsCompletion\": 0.0, \"failureMessage\": \"\", \"exceptionClass\": \"\", \"trace\": \"\", \"outcomeType\": 4}}, \"*\")"
      ],
      "text/plain": [
       "<IPython.core.display.Javascript object>"
      ]
     },
     "metadata": {},
     "output_type": "display_data"
    },
    {
     "data": {
      "text/markdown": [
       "<span style=\"color:#33cc99\">Solution:</span> \n",
       "```python\n",
       "point_strings = reviews.points.astype(str)\n",
       "```"
      ],
      "text/plain": [
       "Solution: \n",
       "```python\n",
       "point_strings = reviews.points.astype(str)\n",
       "```"
      ]
     },
     "metadata": {},
     "output_type": "display_data"
    }
   ],
   "source": [
    "#q2.hint()\n",
    "q2.solution()"
   ]
  },
  {
   "cell_type": "markdown",
   "id": "878d6b10",
   "metadata": {
    "papermill": {
     "duration": 0.016653,
     "end_time": "2021-08-08T09:39:36.687349",
     "exception": false,
     "start_time": "2021-08-08T09:39:36.670696",
     "status": "completed"
    },
    "tags": []
   },
   "source": [
    "## 3.\n",
    "Sometimes the price column is null. How many reviews in the dataset are missing a price?"
   ]
  },
  {
   "cell_type": "code",
   "execution_count": 6,
   "id": "51341ddf",
   "metadata": {
    "execution": {
     "iopub.execute_input": "2021-08-08T09:39:36.725287Z",
     "iopub.status.busy": "2021-08-08T09:39:36.724312Z",
     "iopub.status.idle": "2021-08-08T09:39:36.738242Z",
     "shell.execute_reply": "2021-08-08T09:39:36.737703Z",
     "shell.execute_reply.started": "2021-08-08T09:02:57.220614Z"
    },
    "papermill": {
     "duration": 0.033951,
     "end_time": "2021-08-08T09:39:36.738377",
     "exception": false,
     "start_time": "2021-08-08T09:39:36.704426",
     "status": "completed"
    },
    "tags": []
   },
   "outputs": [
    {
     "data": {
      "application/javascript": [
       "parent.postMessage({\"jupyterEvent\": \"custom.exercise_interaction\", \"data\": {\"outcomeType\": 1, \"valueTowardsCompletion\": 0.25, \"interactionType\": 1, \"questionType\": 1, \"questionId\": \"3_CountMissingPrices\", \"learnToolsVersion\": \"0.3.4\", \"failureMessage\": \"\", \"exceptionClass\": \"\", \"trace\": \"\"}}, \"*\")"
      ],
      "text/plain": [
       "<IPython.core.display.Javascript object>"
      ]
     },
     "metadata": {},
     "output_type": "display_data"
    },
    {
     "data": {
      "text/markdown": [
       "<span style=\"color:#33cc33\">Correct</span>"
      ],
      "text/plain": [
       "Correct"
      ]
     },
     "metadata": {},
     "output_type": "display_data"
    }
   ],
   "source": [
    "missing_price_reviews = reviews[reviews.price.isnull()]\n",
    "n_missing_prices = len(missing_price_reviews)\n",
    "\n",
    "# Check your answer\n",
    "q3.check()"
   ]
  },
  {
   "cell_type": "code",
   "execution_count": 7,
   "id": "eccc1a01",
   "metadata": {
    "execution": {
     "iopub.execute_input": "2021-08-08T09:39:36.777212Z",
     "iopub.status.busy": "2021-08-08T09:39:36.776542Z",
     "iopub.status.idle": "2021-08-08T09:39:36.782715Z",
     "shell.execute_reply": "2021-08-08T09:39:36.783219Z",
     "shell.execute_reply.started": "2021-08-08T09:02:28.300361Z"
    },
    "papermill": {
     "duration": 0.027342,
     "end_time": "2021-08-08T09:39:36.783392",
     "exception": false,
     "start_time": "2021-08-08T09:39:36.756050",
     "status": "completed"
    },
    "tags": []
   },
   "outputs": [
    {
     "data": {
      "application/javascript": [
       "parent.postMessage({\"jupyterEvent\": \"custom.exercise_interaction\", \"data\": {\"interactionType\": 3, \"questionType\": 1, \"questionId\": \"3_CountMissingPrices\", \"learnToolsVersion\": \"0.3.4\", \"valueTowardsCompletion\": 0.0, \"failureMessage\": \"\", \"exceptionClass\": \"\", \"trace\": \"\", \"outcomeType\": 4}}, \"*\")"
      ],
      "text/plain": [
       "<IPython.core.display.Javascript object>"
      ]
     },
     "metadata": {},
     "output_type": "display_data"
    },
    {
     "data": {
      "text/markdown": [
       "<span style=\"color:#33cc99\">Solution:</span> \n",
       "```python\n",
       "missing_price_reviews = reviews[reviews.price.isnull()]\n",
       "n_missing_prices = len(missing_price_reviews)\n",
       "# Cute alternative solution: if we sum a boolean series, True is treated as 1 and False as 0\n",
       "n_missing_prices = reviews.price.isnull().sum()\n",
       "# or equivalently:\n",
       "n_missing_prices = pd.isnull(reviews.price).sum()\n",
       "\n",
       "```"
      ],
      "text/plain": [
       "Solution: \n",
       "```python\n",
       "missing_price_reviews = reviews[reviews.price.isnull()]\n",
       "n_missing_prices = len(missing_price_reviews)\n",
       "# Cute alternative solution: if we sum a boolean series, True is treated as 1 and False as 0\n",
       "n_missing_prices = reviews.price.isnull().sum()\n",
       "# or equivalently:\n",
       "n_missing_prices = pd.isnull(reviews.price).sum()\n",
       "\n",
       "```"
      ]
     },
     "metadata": {},
     "output_type": "display_data"
    }
   ],
   "source": [
    "#q3.hint()\n",
    "q3.solution()"
   ]
  },
  {
   "cell_type": "markdown",
   "id": "c3baf04a",
   "metadata": {
    "papermill": {
     "duration": 0.018633,
     "end_time": "2021-08-08T09:39:36.821627",
     "exception": false,
     "start_time": "2021-08-08T09:39:36.802994",
     "status": "completed"
    },
    "tags": []
   },
   "source": [
    "## 4.\n",
    "What are the most common wine-producing regions? Create a Series counting the number of times each value occurs in the `region_1` field. This field is often missing data, so replace missing values with `Unknown`. Sort in descending order.  Your output should look something like this:\n",
    "\n",
    "```\n",
    "Unknown                    21247\n",
    "Napa Valley                 4480\n",
    "                           ...  \n",
    "Bardolino Superiore            1\n",
    "Primitivo del Tarantino        1\n",
    "Name: region_1, Length: 1230, dtype: int64\n",
    "```"
   ]
  },
  {
   "cell_type": "code",
   "execution_count": 8,
   "id": "1be4e02e",
   "metadata": {
    "execution": {
     "iopub.execute_input": "2021-08-08T09:39:36.863132Z",
     "iopub.status.busy": "2021-08-08T09:39:36.862522Z",
     "iopub.status.idle": "2021-08-08T09:39:36.876859Z",
     "shell.execute_reply": "2021-08-08T09:39:36.877346Z",
     "shell.execute_reply.started": "2021-08-08T09:08:10.019316Z"
    },
    "papermill": {
     "duration": 0.036266,
     "end_time": "2021-08-08T09:39:36.877538",
     "exception": false,
     "start_time": "2021-08-08T09:39:36.841272",
     "status": "completed"
    },
    "tags": []
   },
   "outputs": [
    {
     "data": {
      "application/javascript": [
       "parent.postMessage({\"jupyterEvent\": \"custom.exercise_interaction\", \"data\": {\"outcomeType\": 4, \"interactionType\": 1, \"questionType\": 2, \"questionId\": \"4_ReviewsPerRegion\", \"learnToolsVersion\": \"0.3.4\", \"valueTowardsCompletion\": 0.0, \"failureMessage\": \"\", \"exceptionClass\": \"\", \"trace\": \"\"}}, \"*\")"
      ],
      "text/plain": [
       "<IPython.core.display.Javascript object>"
      ]
     },
     "metadata": {},
     "output_type": "display_data"
    },
    {
     "data": {
      "text/markdown": [
       "<span style=\"color:#ccaa33\">Check:</span> When you've updated the starter code, `check()` will tell you whether your code is correct. Remember, you must create the following variable: `reviews_per_region`"
      ],
      "text/plain": [
       "Check: When you've updated the starter code, `check()` will tell you whether your code is correct. Remember, you must create the following variable: `reviews_per_region`"
      ]
     },
     "metadata": {},
     "output_type": "display_data"
    }
   ],
   "source": [
    "#reviews_per_region = ____\n",
    "\n",
    "\n",
    "missing_price_reviews = reviews[reviews.price.isnull()]\n",
    "n_missing_prices = len(missing_price_reviews)\n",
    "# Cute alternative solution: if we sum a boolean series, True is treated as 1 and False as 0\n",
    "n_missing_prices = reviews.price.isnull().sum()\n",
    "# or equivalently:\n",
    "n_missing_prices = pd.isnull(reviews.price).sum()\n",
    "\n",
    "\n",
    "# Check your answer\n",
    "q4.check()"
   ]
  },
  {
   "cell_type": "code",
   "execution_count": 9,
   "id": "b11c7de4",
   "metadata": {
    "execution": {
     "iopub.execute_input": "2021-08-08T09:39:36.922736Z",
     "iopub.status.busy": "2021-08-08T09:39:36.922036Z",
     "iopub.status.idle": "2021-08-08T09:39:36.931553Z",
     "shell.execute_reply": "2021-08-08T09:39:36.931016Z",
     "shell.execute_reply.started": "2021-08-08T09:08:16.44127Z"
    },
    "papermill": {
     "duration": 0.03404,
     "end_time": "2021-08-08T09:39:36.931690",
     "exception": false,
     "start_time": "2021-08-08T09:39:36.897650",
     "status": "completed"
    },
    "tags": []
   },
   "outputs": [
    {
     "data": {
      "application/javascript": [
       "parent.postMessage({\"jupyterEvent\": \"custom.exercise_interaction\", \"data\": {\"interactionType\": 2, \"questionType\": 2, \"questionId\": \"4_ReviewsPerRegion\", \"learnToolsVersion\": \"0.3.4\", \"valueTowardsCompletion\": 0.0, \"failureMessage\": \"\", \"exceptionClass\": \"\", \"trace\": \"\", \"outcomeType\": 4}}, \"*\")"
      ],
      "text/plain": [
       "<IPython.core.display.Javascript object>"
      ]
     },
     "metadata": {},
     "output_type": "display_data"
    },
    {
     "data": {
      "text/markdown": [
       "<span style=\"color:#3366cc\">Hint:</span> Use `fillna()`, `value_counts()`, and `sort_values()`."
      ],
      "text/plain": [
       "Hint: Use `fillna()`, `value_counts()`, and `sort_values()`."
      ]
     },
     "metadata": {},
     "output_type": "display_data"
    },
    {
     "data": {
      "application/javascript": [
       "parent.postMessage({\"jupyterEvent\": \"custom.exercise_interaction\", \"data\": {\"interactionType\": 3, \"questionType\": 1, \"questionId\": \"3_CountMissingPrices\", \"learnToolsVersion\": \"0.3.4\", \"valueTowardsCompletion\": 0.0, \"failureMessage\": \"\", \"exceptionClass\": \"\", \"trace\": \"\", \"outcomeType\": 4}}, \"*\")"
      ],
      "text/plain": [
       "<IPython.core.display.Javascript object>"
      ]
     },
     "metadata": {},
     "output_type": "display_data"
    },
    {
     "data": {
      "text/markdown": [
       "<span style=\"color:#33cc99\">Solution:</span> \n",
       "```python\n",
       "missing_price_reviews = reviews[reviews.price.isnull()]\n",
       "n_missing_prices = len(missing_price_reviews)\n",
       "# Cute alternative solution: if we sum a boolean series, True is treated as 1 and False as 0\n",
       "n_missing_prices = reviews.price.isnull().sum()\n",
       "# or equivalently:\n",
       "n_missing_prices = pd.isnull(reviews.price).sum()\n",
       "\n",
       "```"
      ],
      "text/plain": [
       "Solution: \n",
       "```python\n",
       "missing_price_reviews = reviews[reviews.price.isnull()]\n",
       "n_missing_prices = len(missing_price_reviews)\n",
       "# Cute alternative solution: if we sum a boolean series, True is treated as 1 and False as 0\n",
       "n_missing_prices = reviews.price.isnull().sum()\n",
       "# or equivalently:\n",
       "n_missing_prices = pd.isnull(reviews.price).sum()\n",
       "\n",
       "```"
      ]
     },
     "metadata": {},
     "output_type": "display_data"
    }
   ],
   "source": [
    "q4.hint()\n",
    "q3.solution()"
   ]
  },
  {
   "cell_type": "markdown",
   "id": "b5bd5967",
   "metadata": {
    "papermill": {
     "duration": 0.021529,
     "end_time": "2021-08-08T09:39:36.974983",
     "exception": false,
     "start_time": "2021-08-08T09:39:36.953454",
     "status": "completed"
    },
    "tags": []
   },
   "source": [
    "# Keep going\n",
    "\n",
    "Move on to **[renaming and combining](https://www.kaggle.com/residentmario/renaming-and-combining)**."
   ]
  },
  {
   "cell_type": "markdown",
   "id": "63a919a9",
   "metadata": {
    "papermill": {
     "duration": 0.021501,
     "end_time": "2021-08-08T09:39:37.018359",
     "exception": false,
     "start_time": "2021-08-08T09:39:36.996858",
     "status": "completed"
    },
    "tags": []
   },
   "source": [
    "---\n",
    "\n",
    "\n",
    "\n",
    "\n",
    "*Have questions or comments? Visit the [Learn Discussion forum](https://www.kaggle.com/learn-forum/161299) to chat with other Learners.*"
   ]
  }
 ],
 "metadata": {
  "kernelspec": {
   "display_name": "Python 3",
   "language": "python",
   "name": "python3"
  },
  "language_info": {
   "codemirror_mode": {
    "name": "ipython",
    "version": 3
   },
   "file_extension": ".py",
   "mimetype": "text/x-python",
   "name": "python",
   "nbconvert_exporter": "python",
   "pygments_lexer": "ipython3",
   "version": "3.7.10"
  },
  "papermill": {
   "default_parameters": {},
   "duration": 12.666584,
   "end_time": "2021-08-08T09:39:37.749809",
   "environment_variables": {},
   "exception": null,
   "input_path": "__notebook__.ipynb",
   "output_path": "__notebook__.ipynb",
   "parameters": {},
   "start_time": "2021-08-08T09:39:25.083225",
   "version": "2.3.3"
  }
 },
 "nbformat": 4,
 "nbformat_minor": 5
}
